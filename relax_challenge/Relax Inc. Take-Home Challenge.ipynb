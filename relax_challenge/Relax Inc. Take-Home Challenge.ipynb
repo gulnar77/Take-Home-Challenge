{
 "cells": [
  {
   "cell_type": "code",
   "execution_count": 55,
   "id": "dd8d70af",
   "metadata": {},
   "outputs": [],
   "source": [
    "import pandas as pd\n",
    "import numpy as np\n",
    "import matplotlib.pyplot as plt\n",
    "import seaborn as sns\n",
    "from datetime import timedelta\n",
    "from sklearn.model_selection import train_test_split\n",
    "from sklearn.linear_model import LogisticRegression\n",
    "from sklearn.metrics import classification_report\n",
    "from sklearn.preprocessing import OneHotEncoder\n",
    "import warnings\n",
    "\n",
    "warnings.filterwarnings('ignore')"
   ]
  },
  {
   "cell_type": "code",
   "execution_count": 56,
   "id": "82992a1b",
   "metadata": {},
   "outputs": [],
   "source": [
    "users = pd.read_csv('takehome_users.csv', encoding='ISO-8859-1', parse_dates=['creation_time', 'last_session_creation_time'])\n",
    "user_engagement = pd.read_csv('takehome_user_engagement.csv', encoding='ISO-8859-1', parse_dates=['time_stamp'])"
   ]
  },
  {
   "cell_type": "code",
   "execution_count": 57,
   "id": "afcb000c",
   "metadata": {},
   "outputs": [
    {
     "data": {
      "text/html": [
       "<div>\n",
       "<style scoped>\n",
       "    .dataframe tbody tr th:only-of-type {\n",
       "        vertical-align: middle;\n",
       "    }\n",
       "\n",
       "    .dataframe tbody tr th {\n",
       "        vertical-align: top;\n",
       "    }\n",
       "\n",
       "    .dataframe thead th {\n",
       "        text-align: right;\n",
       "    }\n",
       "</style>\n",
       "<table border=\"1\" class=\"dataframe\">\n",
       "  <thead>\n",
       "    <tr style=\"text-align: right;\">\n",
       "      <th></th>\n",
       "      <th>object_id</th>\n",
       "      <th>creation_time</th>\n",
       "      <th>name</th>\n",
       "      <th>email</th>\n",
       "      <th>creation_source</th>\n",
       "      <th>last_session_creation_time</th>\n",
       "      <th>opted_in_to_mailing_list</th>\n",
       "      <th>enabled_for_marketing_drip</th>\n",
       "      <th>org_id</th>\n",
       "      <th>invited_by_user_id</th>\n",
       "    </tr>\n",
       "  </thead>\n",
       "  <tbody>\n",
       "    <tr>\n",
       "      <th>0</th>\n",
       "      <td>1</td>\n",
       "      <td>2014-04-22 03:53:30</td>\n",
       "      <td>Clausen August</td>\n",
       "      <td>AugustCClausen@yahoo.com</td>\n",
       "      <td>GUEST_INVITE</td>\n",
       "      <td>1398138810</td>\n",
       "      <td>1</td>\n",
       "      <td>0</td>\n",
       "      <td>11</td>\n",
       "      <td>10803.0</td>\n",
       "    </tr>\n",
       "    <tr>\n",
       "      <th>1</th>\n",
       "      <td>2</td>\n",
       "      <td>2013-11-15 03:45:04</td>\n",
       "      <td>Poole Matthew</td>\n",
       "      <td>MatthewPoole@gustr.com</td>\n",
       "      <td>ORG_INVITE</td>\n",
       "      <td>1396237504</td>\n",
       "      <td>0</td>\n",
       "      <td>0</td>\n",
       "      <td>1</td>\n",
       "      <td>316.0</td>\n",
       "    </tr>\n",
       "    <tr>\n",
       "      <th>2</th>\n",
       "      <td>3</td>\n",
       "      <td>2013-03-19 23:14:52</td>\n",
       "      <td>Bottrill Mitchell</td>\n",
       "      <td>MitchellBottrill@gustr.com</td>\n",
       "      <td>ORG_INVITE</td>\n",
       "      <td>1363734892</td>\n",
       "      <td>0</td>\n",
       "      <td>0</td>\n",
       "      <td>94</td>\n",
       "      <td>1525.0</td>\n",
       "    </tr>\n",
       "    <tr>\n",
       "      <th>3</th>\n",
       "      <td>4</td>\n",
       "      <td>2013-05-21 08:09:28</td>\n",
       "      <td>Clausen Nicklas</td>\n",
       "      <td>NicklasSClausen@yahoo.com</td>\n",
       "      <td>GUEST_INVITE</td>\n",
       "      <td>1369210168</td>\n",
       "      <td>0</td>\n",
       "      <td>0</td>\n",
       "      <td>1</td>\n",
       "      <td>5151.0</td>\n",
       "    </tr>\n",
       "    <tr>\n",
       "      <th>4</th>\n",
       "      <td>5</td>\n",
       "      <td>2013-01-17 10:14:20</td>\n",
       "      <td>Raw Grace</td>\n",
       "      <td>GraceRaw@yahoo.com</td>\n",
       "      <td>GUEST_INVITE</td>\n",
       "      <td>1358849660</td>\n",
       "      <td>0</td>\n",
       "      <td>0</td>\n",
       "      <td>193</td>\n",
       "      <td>5240.0</td>\n",
       "    </tr>\n",
       "  </tbody>\n",
       "</table>\n",
       "</div>"
      ],
      "text/plain": [
       "   object_id       creation_time               name  \\\n",
       "0          1 2014-04-22 03:53:30     Clausen August   \n",
       "1          2 2013-11-15 03:45:04      Poole Matthew   \n",
       "2          3 2013-03-19 23:14:52  Bottrill Mitchell   \n",
       "3          4 2013-05-21 08:09:28    Clausen Nicklas   \n",
       "4          5 2013-01-17 10:14:20          Raw Grace   \n",
       "\n",
       "                        email creation_source last_session_creation_time  \\\n",
       "0    AugustCClausen@yahoo.com    GUEST_INVITE                 1398138810   \n",
       "1      MatthewPoole@gustr.com      ORG_INVITE                 1396237504   \n",
       "2  MitchellBottrill@gustr.com      ORG_INVITE                 1363734892   \n",
       "3   NicklasSClausen@yahoo.com    GUEST_INVITE                 1369210168   \n",
       "4          GraceRaw@yahoo.com    GUEST_INVITE                 1358849660   \n",
       "\n",
       "   opted_in_to_mailing_list  enabled_for_marketing_drip  org_id  \\\n",
       "0                         1                           0      11   \n",
       "1                         0                           0       1   \n",
       "2                         0                           0      94   \n",
       "3                         0                           0       1   \n",
       "4                         0                           0     193   \n",
       "\n",
       "   invited_by_user_id  \n",
       "0             10803.0  \n",
       "1               316.0  \n",
       "2              1525.0  \n",
       "3              5151.0  \n",
       "4              5240.0  "
      ]
     },
     "execution_count": 57,
     "metadata": {},
     "output_type": "execute_result"
    }
   ],
   "source": [
    "users.head()"
   ]
  },
  {
   "cell_type": "code",
   "execution_count": 58,
   "id": "24ea2528",
   "metadata": {},
   "outputs": [
    {
     "name": "stdout",
     "output_type": "stream",
     "text": [
      "<class 'pandas.core.frame.DataFrame'>\n",
      "RangeIndex: 12000 entries, 0 to 11999\n",
      "Data columns (total 10 columns):\n",
      " #   Column                      Non-Null Count  Dtype         \n",
      "---  ------                      --------------  -----         \n",
      " 0   object_id                   12000 non-null  int64         \n",
      " 1   creation_time               12000 non-null  datetime64[ns]\n",
      " 2   name                        12000 non-null  object        \n",
      " 3   email                       12000 non-null  object        \n",
      " 4   creation_source             12000 non-null  object        \n",
      " 5   last_session_creation_time  8823 non-null   object        \n",
      " 6   opted_in_to_mailing_list    12000 non-null  int64         \n",
      " 7   enabled_for_marketing_drip  12000 non-null  int64         \n",
      " 8   org_id                      12000 non-null  int64         \n",
      " 9   invited_by_user_id          6417 non-null   float64       \n",
      "dtypes: datetime64[ns](1), float64(1), int64(4), object(4)\n",
      "memory usage: 937.6+ KB\n"
     ]
    }
   ],
   "source": [
    "users.info()"
   ]
  },
  {
   "cell_type": "code",
   "execution_count": 59,
   "id": "21ff661f",
   "metadata": {},
   "outputs": [
    {
     "data": {
      "text/html": [
       "<div>\n",
       "<style scoped>\n",
       "    .dataframe tbody tr th:only-of-type {\n",
       "        vertical-align: middle;\n",
       "    }\n",
       "\n",
       "    .dataframe tbody tr th {\n",
       "        vertical-align: top;\n",
       "    }\n",
       "\n",
       "    .dataframe thead th {\n",
       "        text-align: right;\n",
       "    }\n",
       "</style>\n",
       "<table border=\"1\" class=\"dataframe\">\n",
       "  <thead>\n",
       "    <tr style=\"text-align: right;\">\n",
       "      <th></th>\n",
       "      <th>time_stamp</th>\n",
       "      <th>user_id</th>\n",
       "      <th>visited</th>\n",
       "    </tr>\n",
       "  </thead>\n",
       "  <tbody>\n",
       "    <tr>\n",
       "      <th>0</th>\n",
       "      <td>2014-04-22 03:53:30</td>\n",
       "      <td>1</td>\n",
       "      <td>1</td>\n",
       "    </tr>\n",
       "    <tr>\n",
       "      <th>1</th>\n",
       "      <td>2013-11-15 03:45:04</td>\n",
       "      <td>2</td>\n",
       "      <td>1</td>\n",
       "    </tr>\n",
       "    <tr>\n",
       "      <th>2</th>\n",
       "      <td>2013-11-29 03:45:04</td>\n",
       "      <td>2</td>\n",
       "      <td>1</td>\n",
       "    </tr>\n",
       "    <tr>\n",
       "      <th>3</th>\n",
       "      <td>2013-12-09 03:45:04</td>\n",
       "      <td>2</td>\n",
       "      <td>1</td>\n",
       "    </tr>\n",
       "    <tr>\n",
       "      <th>4</th>\n",
       "      <td>2013-12-25 03:45:04</td>\n",
       "      <td>2</td>\n",
       "      <td>1</td>\n",
       "    </tr>\n",
       "  </tbody>\n",
       "</table>\n",
       "</div>"
      ],
      "text/plain": [
       "           time_stamp  user_id  visited\n",
       "0 2014-04-22 03:53:30        1        1\n",
       "1 2013-11-15 03:45:04        2        1\n",
       "2 2013-11-29 03:45:04        2        1\n",
       "3 2013-12-09 03:45:04        2        1\n",
       "4 2013-12-25 03:45:04        2        1"
      ]
     },
     "execution_count": 59,
     "metadata": {},
     "output_type": "execute_result"
    }
   ],
   "source": [
    "user_engagement.head()"
   ]
  },
  {
   "cell_type": "code",
   "execution_count": 60,
   "id": "73e1fa1a",
   "metadata": {},
   "outputs": [
    {
     "name": "stdout",
     "output_type": "stream",
     "text": [
      "<class 'pandas.core.frame.DataFrame'>\n",
      "RangeIndex: 207917 entries, 0 to 207916\n",
      "Data columns (total 3 columns):\n",
      " #   Column      Non-Null Count   Dtype         \n",
      "---  ------      --------------   -----         \n",
      " 0   time_stamp  207917 non-null  datetime64[ns]\n",
      " 1   user_id     207917 non-null  int64         \n",
      " 2   visited     207917 non-null  int64         \n",
      "dtypes: datetime64[ns](1), int64(2)\n",
      "memory usage: 4.8 MB\n"
     ]
    }
   ],
   "source": [
    "user_engagement.info()"
   ]
  },
  {
   "cell_type": "code",
   "execution_count": 61,
   "id": "2f1e7bbe",
   "metadata": {},
   "outputs": [],
   "source": [
    "data = pd.merge(users, user_engagement, left_on='object_id', right_on='user_id', how='left')"
   ]
  },
  {
   "cell_type": "code",
   "execution_count": 62,
   "id": "3b50bb39",
   "metadata": {},
   "outputs": [
    {
     "name": "stdout",
     "output_type": "stream",
     "text": [
      "<class 'pandas.core.frame.DataFrame'>\n",
      "Int64Index: 211094 entries, 0 to 211093\n",
      "Data columns (total 13 columns):\n",
      " #   Column                      Non-Null Count   Dtype         \n",
      "---  ------                      --------------   -----         \n",
      " 0   object_id                   211094 non-null  int64         \n",
      " 1   creation_time               211094 non-null  datetime64[ns]\n",
      " 2   name                        211094 non-null  object        \n",
      " 3   email                       211094 non-null  object        \n",
      " 4   creation_source             211094 non-null  object        \n",
      " 5   last_session_creation_time  207917 non-null  object        \n",
      " 6   opted_in_to_mailing_list    211094 non-null  int64         \n",
      " 7   enabled_for_marketing_drip  211094 non-null  int64         \n",
      " 8   org_id                      211094 non-null  int64         \n",
      " 9   invited_by_user_id          118528 non-null  float64       \n",
      " 10  time_stamp                  207917 non-null  datetime64[ns]\n",
      " 11  user_id                     207917 non-null  float64       \n",
      " 12  visited                     207917 non-null  float64       \n",
      "dtypes: datetime64[ns](2), float64(3), int64(4), object(4)\n",
      "memory usage: 22.5+ MB\n"
     ]
    }
   ],
   "source": [
    "data.info()"
   ]
  },
  {
   "cell_type": "code",
   "execution_count": 63,
   "id": "0004cf69",
   "metadata": {},
   "outputs": [
    {
     "data": {
      "text/plain": [
       "object_id                         0\n",
       "creation_time                     0\n",
       "name                              0\n",
       "email                             0\n",
       "creation_source                   0\n",
       "last_session_creation_time     3177\n",
       "opted_in_to_mailing_list          0\n",
       "enabled_for_marketing_drip        0\n",
       "org_id                            0\n",
       "invited_by_user_id            92566\n",
       "time_stamp                     3177\n",
       "user_id                        3177\n",
       "visited                        3177\n",
       "dtype: int64"
      ]
     },
     "execution_count": 63,
     "metadata": {},
     "output_type": "execute_result"
    }
   ],
   "source": [
    "data.isnull().sum()"
   ]
  },
  {
   "cell_type": "markdown",
   "id": "152c7237",
   "metadata": {},
   "source": [
    "The investigation reveals that there are 3,177 rows in the dataset where the columns last_session_creation_time, time_stamp, user_id, and visited are all missing simultaneously. This finding suggests that these missing values are interconnected, possibly representing users who have never logged in or for whom the login data was not recorded."
   ]
  },
  {
   "cell_type": "markdown",
   "id": "dc8e6595",
   "metadata": {},
   "source": [
    "# Initial Assessment of Missing Values"
   ]
  },
  {
   "cell_type": "code",
   "execution_count": 64,
   "id": "523bf681",
   "metadata": {},
   "outputs": [
    {
     "data": {
      "text/html": [
       "<div>\n",
       "<style scoped>\n",
       "    .dataframe tbody tr th:only-of-type {\n",
       "        vertical-align: middle;\n",
       "    }\n",
       "\n",
       "    .dataframe tbody tr th {\n",
       "        vertical-align: top;\n",
       "    }\n",
       "\n",
       "    .dataframe thead th {\n",
       "        text-align: right;\n",
       "    }\n",
       "</style>\n",
       "<table border=\"1\" class=\"dataframe\">\n",
       "  <thead>\n",
       "    <tr style=\"text-align: right;\">\n",
       "      <th></th>\n",
       "      <th>Missing Values</th>\n",
       "      <th>Percentage</th>\n",
       "    </tr>\n",
       "  </thead>\n",
       "  <tbody>\n",
       "    <tr>\n",
       "      <th>invited_by_user_id</th>\n",
       "      <td>92566</td>\n",
       "      <td>43.850607</td>\n",
       "    </tr>\n",
       "    <tr>\n",
       "      <th>last_session_creation_time</th>\n",
       "      <td>3177</td>\n",
       "      <td>1.505017</td>\n",
       "    </tr>\n",
       "    <tr>\n",
       "      <th>time_stamp</th>\n",
       "      <td>3177</td>\n",
       "      <td>1.505017</td>\n",
       "    </tr>\n",
       "    <tr>\n",
       "      <th>user_id</th>\n",
       "      <td>3177</td>\n",
       "      <td>1.505017</td>\n",
       "    </tr>\n",
       "    <tr>\n",
       "      <th>visited</th>\n",
       "      <td>3177</td>\n",
       "      <td>1.505017</td>\n",
       "    </tr>\n",
       "    <tr>\n",
       "      <th>object_id</th>\n",
       "      <td>0</td>\n",
       "      <td>0.000000</td>\n",
       "    </tr>\n",
       "    <tr>\n",
       "      <th>creation_time</th>\n",
       "      <td>0</td>\n",
       "      <td>0.000000</td>\n",
       "    </tr>\n",
       "    <tr>\n",
       "      <th>name</th>\n",
       "      <td>0</td>\n",
       "      <td>0.000000</td>\n",
       "    </tr>\n",
       "    <tr>\n",
       "      <th>email</th>\n",
       "      <td>0</td>\n",
       "      <td>0.000000</td>\n",
       "    </tr>\n",
       "    <tr>\n",
       "      <th>creation_source</th>\n",
       "      <td>0</td>\n",
       "      <td>0.000000</td>\n",
       "    </tr>\n",
       "    <tr>\n",
       "      <th>opted_in_to_mailing_list</th>\n",
       "      <td>0</td>\n",
       "      <td>0.000000</td>\n",
       "    </tr>\n",
       "    <tr>\n",
       "      <th>enabled_for_marketing_drip</th>\n",
       "      <td>0</td>\n",
       "      <td>0.000000</td>\n",
       "    </tr>\n",
       "    <tr>\n",
       "      <th>org_id</th>\n",
       "      <td>0</td>\n",
       "      <td>0.000000</td>\n",
       "    </tr>\n",
       "  </tbody>\n",
       "</table>\n",
       "</div>"
      ],
      "text/plain": [
       "                            Missing Values  Percentage\n",
       "invited_by_user_id                   92566   43.850607\n",
       "last_session_creation_time            3177    1.505017\n",
       "time_stamp                            3177    1.505017\n",
       "user_id                               3177    1.505017\n",
       "visited                               3177    1.505017\n",
       "object_id                                0    0.000000\n",
       "creation_time                            0    0.000000\n",
       "name                                     0    0.000000\n",
       "email                                    0    0.000000\n",
       "creation_source                          0    0.000000\n",
       "opted_in_to_mailing_list                 0    0.000000\n",
       "enabled_for_marketing_drip               0    0.000000\n",
       "org_id                                   0    0.000000"
      ]
     },
     "execution_count": 64,
     "metadata": {},
     "output_type": "execute_result"
    }
   ],
   "source": [
    "missing_values = data.isnull().sum()\n",
    "missing_percentage = (missing_values / len(data)) * 100\n",
    "\n",
    "missing_summary = pd.DataFrame({'Missing Values': missing_values, 'Percentage': missing_percentage})\n",
    "missing_summary.sort_values(by='Percentage', ascending=False)"
   ]
  },
  {
   "cell_type": "markdown",
   "id": "aeb506c2",
   "metadata": {},
   "source": [
    "# Impute Missing Values and Investigate Further"
   ]
  },
  {
   "cell_type": "code",
   "execution_count": 65,
   "id": "d74e7b23",
   "metadata": {},
   "outputs": [
    {
     "data": {
      "text/plain": [
       "({'Total Missing Rows': 3177, 'Rows with All Columns Missing': 3177},\n",
       "     last_session_creation_time time_stamp  user_id  visited\n",
       " 20                         NaN        NaT      NaN      NaN\n",
       " 21                         NaN        NaT      NaN      NaN\n",
       " 307                        NaN        NaT      NaN      NaN\n",
       " 310                        NaN        NaT      NaN      NaN\n",
       " 311                        NaN        NaT      NaN      NaN)"
      ]
     },
     "execution_count": 65,
     "metadata": {},
     "output_type": "execute_result"
    }
   ],
   "source": [
    "# imputing missing values in 'invited_by_user_id' with -1 to indicate users were not invited by other users\n",
    "data['invited_by_user_id'].fillna(-1, inplace=True)\n",
    "\n",
    "# further investigation: last_session_creation_time, time_stamp, user_id, visited\n",
    "# missing values are in the same rows\n",
    "missing_columns = ['last_session_creation_time', 'time_stamp', 'user_id', 'visited']\n",
    "missing_data = data[missing_columns]\n",
    "missing_rows = missing_data[missing_data.isnull().any(axis=1)]\n",
    "\n",
    "all_missing_count = missing_rows.shape[0]\n",
    "\n",
    "investigation_summary = {\n",
    "    'Total Missing Rows': missing_rows.shape[0],\n",
    "    'Rows with All Columns Missing': all_missing_count\n",
    "}\n",
    "\n",
    "investigation_summary, missing_rows.head()\n"
   ]
  },
  {
   "cell_type": "markdown",
   "id": "fae6475b",
   "metadata": {},
   "source": [
    "# Remove Rows with Missing Login Data"
   ]
  },
  {
   "cell_type": "code",
   "execution_count": 66,
   "id": "91e3cf15",
   "metadata": {},
   "outputs": [
    {
     "data": {
      "text/plain": [
       "((211094, 13), (207917, 13))"
      ]
     },
     "execution_count": 66,
     "metadata": {},
     "output_type": "execute_result"
    }
   ],
   "source": [
    "# removing rows where 'last_session_creation_time', 'time_stamp', 'user_id', and 'visited' are all missing\n",
    "data_cleaned = data.dropna(subset=['last_session_creation_time', 'time_stamp', 'user_id', 'visited'])\n",
    "\n",
    "# checking the shape\n",
    "original_shape = data.shape\n",
    "cleaned_shape = data_cleaned.shape\n",
    "\n",
    "original_shape, cleaned_shape"
   ]
  },
  {
   "cell_type": "markdown",
   "id": "025660be",
   "metadata": {},
   "source": [
    "# Define and Identify Adopted Users"
   ]
  },
  {
   "cell_type": "code",
   "execution_count": 67,
   "id": "5c0cf5a1",
   "metadata": {},
   "outputs": [
    {
     "data": {
      "text/plain": [
       "(1656,\n",
       " user_id\n",
       " 1.0    False\n",
       " 2.0     True\n",
       " 3.0    False\n",
       " 4.0    False\n",
       " 5.0    False\n",
       " Name: time_stamp, dtype: bool)"
      ]
     },
     "execution_count": 67,
     "metadata": {},
     "output_type": "execute_result"
    }
   ],
   "source": [
    "data_cleaned['time_stamp'] = pd.to_datetime(data_cleaned['time_stamp']).dt.date\n",
    "\n",
    "# Group by user \n",
    "grouped = data_cleaned.groupby('user_id')['time_stamp'].apply(lambda x: sorted(set(x)))\n",
    "\n",
    "def is_adopted_user(logins):\n",
    "    for i in range(len(logins) - 2):\n",
    "        if logins[i + 2] - logins[i] <= timedelta(days=7):\n",
    "            return True\n",
    "    return False\n",
    "\n",
    "adopted_users = grouped.apply(is_adopted_user)\n",
    "\n",
    "adopted_users_count = adopted_users.sum()\n",
    "\n",
    "adopted_users_count, adopted_users.head()"
   ]
  },
  {
   "cell_type": "markdown",
   "id": "42273090",
   "metadata": {},
   "source": [
    "# Exploratory Analysis and Visualization"
   ]
  },
  {
   "cell_type": "code",
   "execution_count": 68,
   "id": "2a9816af",
   "metadata": {},
   "outputs": [
    {
     "data": {
      "image/png": "[encoded data removed]",
      "text/plain": [
       "<Figure size 1000x600 with 1 Axes>"
      ]
     },
     "metadata": {},
     "output_type": "display_data"
    }
   ],
   "source": [
    "data_cleaned = data_cleaned.merge(adopted_users.rename('is_adopted_user'), on='user_id')\n",
    "\n",
    "# Plot \n",
    "sns.set(style=\"whitegrid\")\n",
    "\n",
    "# Creation Source vs Adopted User\n",
    "plt.figure(figsize=(10, 6))\n",
    "sns.countplot(data=data_cleaned, x='creation_source', hue='is_adopted_user')\n",
    "plt.title('Graph 1: Creation Source vs Adopted User Status')\n",
    "plt.xticks(ticks=range(5), rotation=45, labels=[\n",
    "    'Guest Invite',\n",
    "    'Organization Invite',\n",
    "    'Signed up via the website',\n",
    "    'Personal Projects',\n",
    "    'Signed up using Google Authentication'\n",
    "])\n",
    "plt.tight_layout()\n",
    "plt.savefig('tab_1.png', bbox_inches='tight')  \n",
    "plt.show()"
   ]
  },
  {
   "cell_type": "code",
   "execution_count": 69,
   "id": "6f27e995",
   "metadata": {},
   "outputs": [
    {
     "data": {
      "image/png": "[encoded data removed]",
      "text/plain": [
       "<Figure size 1000x600 with 1 Axes>"
      ]
     },
     "metadata": {},
     "output_type": "display_data"
    }
   ],
   "source": [
    "# Opted in to Mailing List vs Adopted User\n",
    "plt.figure(figsize=(10, 6))\n",
    "sns.countplot(data=data_cleaned, x='opted_in_to_mailing_list', hue='is_adopted_user')\n",
    "plt.title('Graph 2: Opted in to Mailing List vs Adopted User Status')\n",
    "plt.xticks(rotation=45)\n",
    "plt.tight_layout()\n",
    "plt.savefig('tab_2.png', bbox_inches='tight')  \n",
    "plt.show()"
   ]
  },
  {
   "cell_type": "code",
   "execution_count": 70,
   "id": "a79b1dfe",
   "metadata": {},
   "outputs": [
    {
     "data": {
      "image/png": "[encoded data removed]",
      "text/plain": [
       "<Figure size 1000x600 with 1 Axes>"
      ]
     },
     "metadata": {},
     "output_type": "display_data"
    }
   ],
   "source": [
    "# Enabled for Marketing Drip vs Adopted User\n",
    "plt.figure(figsize=(10, 6))\n",
    "sns.countplot(data=data_cleaned, x='enabled_for_marketing_drip', hue='is_adopted_user')\n",
    "plt.title('Graph 3: Enabled for Marketing Drip vs Adopted User Status')\n",
    "plt.xticks(rotation=45)\n",
    "plt.tight_layout()\n",
    "plt.savefig('tab_3.png', bbox_inches='tight')  \n",
    "plt.show()"
   ]
  },
  {
   "cell_type": "markdown",
   "id": "a163b329",
   "metadata": {},
   "source": [
    "# Logistic Regression Analysis"
   ]
  },
  {
   "cell_type": "code",
   "execution_count": 71,
   "id": "fb6cd25a",
   "metadata": {},
   "outputs": [
    {
     "data": {
      "text/plain": [
       "('              precision    recall  f1-score   support\\n\\n       False       0.00      0.00      0.00      2909\\n        True       0.95      1.00      0.98     59467\\n\\n    accuracy                           0.95     62376\\n   macro avg       0.48      0.50      0.49     62376\\nweighted avg       0.91      0.95      0.93     62376\\n',\n",
       "                                     Coefficient  Odds Ratio\n",
       " creation_source_GUEST_INVITE           0.157525    1.170611\n",
       " creation_source_SIGNUP_GOOGLE_AUTH     0.076848    1.079878\n",
       " opted_in_to_mailing_list               0.067178    1.069486\n",
       " creation_source_PERSONAL_PROJECTS      0.060154    1.062000\n",
       " enabled_for_marketing_drip            -0.008087    0.991946\n",
       " creation_source_ORG_INVITE            -0.097708    0.906913\n",
       " creation_source_SIGNUP                -0.198214    0.820194)"
      ]
     },
     "execution_count": 71,
     "metadata": {},
     "output_type": "execute_result"
    }
   ],
   "source": [
    "from sklearn.model_selection import train_test_split\n",
    "from sklearn.linear_model import LogisticRegression\n",
    "from sklearn.metrics import classification_report\n",
    "from sklearn.preprocessing import OneHotEncoder\n",
    "import numpy as np\n",
    "\n",
    "# Data Prep\n",
    "# One-hot encoding \n",
    "encoder = OneHotEncoder(sparse=False)\n",
    "encoded_creation_source = encoder.fit_transform(data_cleaned[['creation_source']])\n",
    "\n",
    "# DF for encoded variables\n",
    "encoded_creation_source_df = pd.DataFrame(encoded_creation_source, \n",
    "                                          columns=encoder.get_feature_names_out(['creation_source']))\n",
    "\n",
    "# encoded variables with the original dataset\n",
    "data_for_model = pd.concat([data_cleaned.reset_index(drop=True), encoded_creation_source_df], axis=1)\n",
    "\n",
    "# features \n",
    "features = ['opted_in_to_mailing_list', 'enabled_for_marketing_drip'] + list(encoded_creation_source_df.columns)\n",
    "X = data_for_model[features]\n",
    "y = data_for_model['is_adopted_user']\n",
    "\n",
    "# training and testing sets\n",
    "X_train, X_test, y_train, y_test = train_test_split(X, y, test_size=0.3, random_state=42)\n",
    "\n",
    "# Logistic Regression\n",
    "log_reg = LogisticRegression(max_iter=1000)\n",
    "log_reg.fit(X_train, y_train)\n",
    "\n",
    "# predicting and evaluating the model\n",
    "y_pred = log_reg.predict(X_test)\n",
    "report = classification_report(y_test, y_pred)\n",
    "\n",
    "# coefficients\n",
    "coefficients = pd.DataFrame(log_reg.coef_[0], X.columns, columns=['Coefficient'])\n",
    "coefficients['Odds Ratio'] = np.exp(coefficients['Coefficient'])\n",
    "\n",
    "report, coefficients.sort_values(by='Odds Ratio', ascending=False)"
   ]
  },
  {
   "cell_type": "code",
   "execution_count": null,
   "id": "0a959c72",
   "metadata": {},
   "outputs": [],
   "source": []
  }
 ],
 "metadata": {
  "kernelspec": {
   "display_name": "Python 3 (ipykernel)",
   "language": "python",
   "name": "python3"
  },
  "language_info": {
   "codemirror_mode": {
    "name": "ipython",
    "version": 3
   },
   "file_extension": ".py",
   "mimetype": "text/x-python",
   "name": "python",
   "nbconvert_exporter": "python",
   "pygments_lexer": "ipython3",
   "version": "3.9.13"
  }
 },
 "nbformat": 4,
 "nbformat_minor": 5
}
